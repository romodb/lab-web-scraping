{
  "cells": [
    {
      "cell_type": "markdown",
      "id": "7e7a1ab8-2599-417d-9a65-25ef07f3a786",
      "metadata": {
        "id": "7e7a1ab8-2599-417d-9a65-25ef07f3a786"
      },
      "source": [
        "# Lab | Web Scraping"
      ]
    },
    {
      "cell_type": "markdown",
      "id": "ce8882fc-4815-4567-92fa-b4816358ba7d",
      "metadata": {
        "id": "ce8882fc-4815-4567-92fa-b4816358ba7d"
      },
      "source": [
        "Welcome to the \"Books to Scrape\" Web Scraping Adventure Lab!\n",
        "\n",
        "**Objective**\n",
        "\n",
        "In this lab, we will embark on a mission to unearth valuable insights from the data available on Books to Scrape, an online platform showcasing a wide variety of books. As data analyst, you have been tasked with scraping a specific subset of book data from Books to Scrape to assist publishing companies in understanding the landscape of highly-rated books across different genres. Your insights will help shape future book marketing strategies and publishing decisions.\n",
        "\n",
        "**Background**\n",
        "\n",
        "In a world where data has become the new currency, businesses are leveraging big data to make informed decisions that drive success and profitability. The publishing industry, much like others, utilizes data analytics to understand market trends, reader preferences, and the performance of books based on factors such as genre, author, and ratings. Books to Scrape serves as a rich source of such data, offering detailed information about a diverse range of books, making it an ideal platform for extracting insights to aid in informed decision-making within the literary world.\n",
        "\n",
        "**Task**\n",
        "\n",
        "Your task is to create a Python script using BeautifulSoup and pandas to scrape Books to Scrape book data, focusing on book ratings and genres. The script should be able to filter books with ratings above a certain threshold and in specific genres. Additionally, the script should structure the scraped data in a tabular format using pandas for further analysis.\n",
        "\n",
        "**Expected Outcome**\n",
        "\n",
        "A function named `scrape_books` that takes two parameters: `min_rating` and `max_price`. The function should scrape book data from the \"Books to Scrape\" website and return a `pandas` DataFrame with the following columns:\n",
        "\n",
        "**Expected Outcome**\n",
        "\n",
        "- A function named `scrape_books` that takes two parameters: `min_rating` and `max_price`.\n",
        "- The function should return a DataFrame with the following columns:\n",
        "  - **UPC**: The Universal Product Code (UPC) of the book.\n",
        "  - **Title**: The title of the book.\n",
        "  - **Price (£)**: The price of the book in pounds.\n",
        "  - **Rating**: The rating of the book (1-5 stars).\n",
        "  - **Genre**: The genre of the book.\n",
        "  - **Availability**: Whether the book is in stock or not.\n",
        "  - **Description**: A brief description or product description of the book (if available).\n",
        "  \n",
        "You will execute this script to scrape data for books with a minimum rating of `4.0 and above` and a maximum price of `£20`. \n",
        "\n",
        "Remember to experiment with different ratings and prices to ensure your code is versatile and can handle various searches effectively!\n",
        "\n",
        "**Resources**\n",
        "\n",
        "- [Beautiful Soup Documentation](https://www.crummy.com/software/BeautifulSoup/bs4/doc/)\n",
        "- [Pandas Documentation](https://pandas.pydata.org/pandas-docs/stable/index.html)\n",
        "- [Books to Scrape](https://books.toscrape.com/)\n"
      ]
    },
    {
      "cell_type": "markdown",
      "id": "3519921d-5890-445b-9a33-934ed8ee378c",
      "metadata": {
        "id": "3519921d-5890-445b-9a33-934ed8ee378c"
      },
      "source": [
        "**Hint**\n",
        "\n",
        "Your first mission is to familiarize yourself with the **Books to Scrape** website. Navigate to [Books to Scrape](http://books.toscrape.com/) and explore the available books to understand their layout and structure. \n",
        "\n",
        "Next, think about how you can set parameters for your data extraction:\n",
        "\n",
        "- **Minimum Rating**: Focus on books with a rating of 4.0 and above.\n",
        "- **Maximum Price**: Filter for books priced up to £20.\n",
        "\n",
        "After reviewing the site, you can construct a plan for scraping relevant data. Pay attention to the details displayed for each book, including the title, price, rating, and availability. This will help you identify the correct HTML elements to target with your scraping script.\n",
        "\n",
        "Make sure to build your scraping URL and logic based on the patterns you observe in the HTML structure of the book listings!"
      ]
    },
    {
      "cell_type": "markdown",
      "id": "25a83a0d-a742-49f6-985e-e27887cbf922",
      "metadata": {
        "id": "25a83a0d-a742-49f6-985e-e27887cbf922"
      },
      "source": [
        "\n",
        "---\n",
        "\n",
        "**Best of luck! Immerse yourself in the world of books, and may the data be with you!**"
      ]
    },
    {
      "cell_type": "markdown",
      "id": "7b75cf0d-9afa-4eec-a9e2-befeac68b2a0",
      "metadata": {
        "id": "7b75cf0d-9afa-4eec-a9e2-befeac68b2a0"
      },
      "source": [
        "**Important Note**:\n",
        "\n",
        "In the fast-changing online world, websites often update and change their structures. When you try this lab, the **Books to Scrape** website might differ from what you expect.\n",
        "\n",
        "If you encounter issues due to these changes, like new rules or obstacles preventing data extraction, don’t worry! Get creative.\n",
        "\n",
        "You can choose another website that interests you and is suitable for scraping data. Options like Wikipedia, The New York Times, or even library databases are great alternatives. The main goal remains the same: extract useful data and enhance your web scraping skills while exploring a source of information you enjoy. This is your opportunity to practice and adapt to different web environments!"
      ]
    },
    {
      "cell_type": "code",
      "execution_count": 1,
      "id": "40359eee-9cd7-4884-bfa4-83344c222305",
      "metadata": {
        "id": "40359eee-9cd7-4884-bfa4-83344c222305"
      },
      "outputs": [],
      "source": [
        "#  Crea la funcion scrape_books, te debe devolver un dataframe \n",
        "#  en pandas con estas columnas: UPC, Title, Price (libras), Genre,\n",
        "#  Rating, Availability y Description\n",
        "\n",
        "#  Crea la funcion min_rating\n",
        "#  Crea la funcion max_price\n",
        "\n",
        "#  Se debe ejecutar el scrip para obtener libros con nota>4 y precio<20\n"
      ]
    },
    {
      "cell_type": "code",
      "execution_count": 2,
      "id": "e4fc1ccd",
      "metadata": {},
      "outputs": [
        {
          "name": "stdout",
          "output_type": "stream",
          "text": [
            "Requirement already satisfied: requests in c:\\users\\ro\\appdata\\local\\programs\\python\\python312\\lib\\site-packages (2.32.3)\n",
            "Requirement already satisfied: beautifulsoup4 in c:\\users\\ro\\appdata\\local\\programs\\python\\python312\\lib\\site-packages (4.12.3)\n",
            "Requirement already satisfied: charset-normalizer<4,>=2 in c:\\users\\ro\\appdata\\local\\programs\\python\\python312\\lib\\site-packages (from requests) (3.3.2)\n",
            "Requirement already satisfied: idna<4,>=2.5 in c:\\users\\ro\\appdata\\local\\programs\\python\\python312\\lib\\site-packages (from requests) (3.7)\n",
            "Requirement already satisfied: urllib3<3,>=1.21.1 in c:\\users\\ro\\appdata\\local\\programs\\python\\python312\\lib\\site-packages (from requests) (2.2.2)\n",
            "Requirement already satisfied: certifi>=2017.4.17 in c:\\users\\ro\\appdata\\local\\programs\\python\\python312\\lib\\site-packages (from requests) (2024.7.4)\n",
            "Requirement already satisfied: soupsieve>1.2 in c:\\users\\ro\\appdata\\local\\programs\\python\\python312\\lib\\site-packages (from beautifulsoup4) (2.6)\n"
          ]
        },
        {
          "name": "stderr",
          "output_type": "stream",
          "text": [
            "\n",
            "[notice] A new release of pip is available: 24.2 -> 24.3.1\n",
            "[notice] To update, run: python.exe -m pip install --upgrade pip\n"
          ]
        }
      ],
      "source": [
        "# Ponemos BS4, importamos request tras esto y ponemos la url\n",
        "!pip install requests beautifulsoup4\n",
        "import requests \n",
        "from bs4 import BeautifulSoup\n",
        "url = 'https://books.toscrape.com/'"
      ]
    },
    {
      "cell_type": "code",
      "execution_count": 3,
      "id": "0a4c1b2d",
      "metadata": {},
      "outputs": [
        {
          "data": {
            "text/plain": [
              "200"
            ]
          },
          "execution_count": 3,
          "metadata": {},
          "output_type": "execute_result"
        }
      ],
      "source": [
        "# Verificamos que se conecta bien usando request.get(url) \n",
        "# y response.status_code, al ser 200 vemos que se ha conectado bien\n",
        "response = requests.get(url)\n",
        "response.status_code"
      ]
    },
    {
      "cell_type": "code",
      "execution_count": 4,
      "id": "84416004",
      "metadata": {},
      "outputs": [
        {
          "name": "stdout",
          "output_type": "stream",
          "text": [
            "title = \n",
            "    All products | Books to Scrape - Sandbox\n",
            "\n"
          ]
        }
      ],
      "source": [
        "# Pasamos a parsear (analizamos y descomponemos una cadena\n",
        "# de datos), debes tener cuidado, es .text no .txt\n",
        "soup = BeautifulSoup(response.text, 'html.parser')\n",
        "print(f\"title = {soup.title.string}\")\n"
      ]
    },
    {
      "cell_type": "markdown",
      "id": "0372a3a9",
      "metadata": {},
      "source": [
        "Para sacar todos los elementos:\n",
        "    enlaces = soup.find_all('a')\n",
        "    for enlace in enlaces:\n",
        "    print(enlace.get('href'))\n",
        "    \n",
        "Para sacar un elemento concreto por clase:\n",
        "    elemento = soup.find('div', class_='nombre-de-la-clase')\n",
        "    print(elemento.text)"
      ]
    },
    {
      "cell_type": "code",
      "execution_count": 5,
      "id": "a3ab66c3",
      "metadata": {},
      "outputs": [],
      "source": [
        "res = soup.find_all(class_='product_pod')"
      ]
    },
    {
      "cell_type": "code",
      "execution_count": 6,
      "id": "b471971b",
      "metadata": {},
      "outputs": [
        {
          "ename": "NameError",
          "evalue": "name 'libro' is not defined",
          "output_type": "error",
          "traceback": [
            "\u001b[1;31m---------------------------------------------------------------------------\u001b[0m",
            "\u001b[1;31mNameError\u001b[0m                                 Traceback (most recent call last)",
            "Cell \u001b[1;32mIn[6], line 18\u001b[0m\n\u001b[0;32m     13\u001b[0m libros \u001b[38;5;241m=\u001b[39m soup\u001b[38;5;241m.\u001b[39mfind_all(\u001b[38;5;124m'\u001b[39m\u001b[38;5;124mrow\u001b[39m\u001b[38;5;124m'\u001b[39m, class_\u001b[38;5;241m=\u001b[39m\u001b[38;5;124m'\u001b[39m\u001b[38;5;124mproduct_pod\u001b[39m\u001b[38;5;124m'\u001b[39m)\n\u001b[0;32m     15\u001b[0m \u001b[38;5;66;03m# Creamos un bucle que recorrera la categoria y la clase dada\u001b[39;00m\n\u001b[0;32m     16\u001b[0m \u001b[38;5;66;03m# y que nos sacara lo que buscamos, se lo debemos indicar linea \u001b[39;00m\n\u001b[0;32m     17\u001b[0m \u001b[38;5;66;03m# por linea\u001b[39;00m\n\u001b[1;32m---> 18\u001b[0m \u001b[38;5;28;01mfor\u001b[39;00m e \u001b[38;5;129;01min\u001b[39;00m \u001b[43mlibro\u001b[49m:\n\u001b[0;32m     19\u001b[0m     book_title \u001b[38;5;241m=\u001b[39m libro\u001b[38;5;241m.\u001b[39mfind(\u001b[38;5;124m'\u001b[39m\u001b[38;5;124mh3\u001b[39m\u001b[38;5;124m'\u001b[39m, class_\u001b[38;5;241m=\u001b[39m\u001b[38;5;124m'\u001b[39m\u001b[38;5;124m'\u001b[39m)\n\u001b[0;32m     20\u001b[0m \u001b[38;5;66;03m# Corazón, te falta indicarle como almacenar las cosas en el DataFrame y obviamente continuar, por el momento debes acabar el de cleaning\u001b[39;00m\n",
            "\u001b[1;31mNameError\u001b[0m: name 'libro' is not defined"
          ]
        }
      ],
      "source": [
        "# Creando un DataFrame con los datitos obtenidos\n",
        "# Importamos pandas y las listas vacias\n",
        "import pandas as pd\n",
        "upc = []\n",
        "Title = []\n",
        "Price = []\n",
        "Genre = []\n",
        "Rating =[]\n",
        "Availability =[]\n",
        "Description =[]\n",
        "\n",
        "# creamos la variable que recogera los datitos en forma de tabla\n",
        "libros = soup.find_all('row', class_='product_pod')\n",
        "\n",
        "# Creamos un bucle que recorrera la categoria y la clase dada\n",
        "# y que nos sacara lo que buscamos, se lo debemos indicar linea \n",
        "# por linea\n",
        "for e in libro:\n",
        "    book_title = libro.find('h3', class_='')\n",
        "# Corazón, te falta indicarle como almacenar las cosas en el DataFrame y obviamente continuar, por el momento debes acabar el de cleaning\n"
      ]
    }
  ],
  "metadata": {
    "colab": {
      "provenance": []
    },
    "kernelspec": {
      "display_name": "Python 3",
      "language": "python",
      "name": "python3"
    },
    "language_info": {
      "codemirror_mode": {
        "name": "ipython",
        "version": 3
      },
      "file_extension": ".py",
      "mimetype": "text/x-python",
      "name": "python",
      "nbconvert_exporter": "python",
      "pygments_lexer": "ipython3",
      "version": "3.12.5"
    }
  },
  "nbformat": 4,
  "nbformat_minor": 5
}
